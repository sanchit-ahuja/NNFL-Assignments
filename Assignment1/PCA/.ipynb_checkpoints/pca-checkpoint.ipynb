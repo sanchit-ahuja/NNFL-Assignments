{
 "cells": [
  {
   "cell_type": "markdown",
   "metadata": {
    "deletable": false,
    "editable": false,
    "nbgrader": {
     "cell_type": "markdown",
     "checksum": "9c0cd22af44e289087ce960aafd76dbe",
     "grade": false,
     "grade_id": "cell-9fc7db9f36897a2c",
     "locked": true,
     "schema_version": 3,
     "solution": false
    }
   },
   "source": [
    "# Assignment 1 \n",
    "### Neural Networks and Fuzzy Logic (2nd Semester 2019-2020)\n",
    "\n",
    "### Instructions:\n",
    "This assignment is designed to check your understanding of linear algebra, assuming you have basic knowlegde of Linear Algebra, this assignment will introudce you to some high level tasks in Linear Algebra, and what's the fun part about it? You'll be implemnting those concepts and visualizing them!! So Let's start.\n",
    "\n",
    "#### Key Concepts: Matrix Inverse, Linear Transforms, Eigendecomposition and all the interesting stuff Linear Algebra has :)\n",
    "\n",
    "##### Please make sure you adhere to the policy of originality of your work, the assignment should reflect your understanding and should be your original, cases of plagiarism will be strictly dealt with as per institute norms. The penalties can include debarrment from the course and registration for the next semester.\n",
    "\n",
    "# Matrices as linear transformations\n",
    "\n",
    "Matrices can be viewed as linear transformations you 'apply' to vectors. Some matrices will rotate your space, others will rescale it etc. So when we apply a matrix to a vector, we end up with a transformed version of the vector. When we say that we 'apply' the matrix to the vector it means that we calculate the dot product of the matrix with the vector. We will start with a basic example of this kind of transformation."
   ]
  },
  {
   "cell_type": "code",
   "execution_count": 217,
   "metadata": {},
   "outputs": [],
   "source": [
    "#No other imports are allowed !!!\n",
    "import numpy as np\n",
    "import matplotlib.pyplot as plt\n",
    "import pandas as pd"
   ]
  },
  {
   "cell_type": "code",
   "execution_count": 218,
   "metadata": {},
   "outputs": [],
   "source": [
    "#utility function, please don't alter this\n",
    "def plot_vectors(vectors, cols, alpha=1):\n",
    "    \"\"\"\n",
    "    Plot set of vectors.\n",
    "    Parameters\n",
    "    ----------\n",
    "    vectors : array-like\n",
    "        Coordinates of the vectors to plot. Each vectors is in an array. For\n",
    "        instance: [[1, 3], [2, 2]] can be used to plot 2 vectors.\n",
    "    cols : array-like\n",
    "        Colors of the vectors. For instance: ['green', 'red'] will display the\n",
    "        first vector in green and the second in red.\n",
    "    alpha : float\n",
    "        Opacity of vectors\n",
    "    Returns:\n",
    "    fig : instance of matplotlib.figure.Figure\n",
    "        The figure of the vectors\n",
    "    \"\"\"\n",
    "    plt.axvline(x=0, color='#A9A9A9', zorder=0)\n",
    "    plt.axhline(y=0, color='#A9A9A9', zorder=0)\n",
    "\n",
    "    for i in range(len(vectors)):\n",
    "        if (isinstance(alpha, list)):\n",
    "            alpha_i = alpha[i]\n",
    "        else:\n",
    "            alpha_i = alpha\n",
    "        x = np.concatenate([[0,0],vectors[i]])\n",
    "        # print(x)\n",
    "        plt.quiver([x[0]],\n",
    "                   [x[1]],\n",
    "                   [x[2]],\n",
    "                   [x[3]],\n",
    "                   angles='xy', scale_units='xy', scale=1, color=cols[i],\n",
    "                  alpha=alpha_i)"
   ]
  },
  {
   "cell_type": "code",
   "execution_count": 219,
   "metadata": {},
   "outputs": [
    {
     "name": "stdout",
     "output_type": "stream",
     "text": [
      "[[1 3]\n",
      " [2 6]]\n",
      "(2, 2)\n"
     ]
    }
   ],
   "source": [
    "A = np.array([[1, 3], [2, 6]])\n",
    "print(A)\n",
    "print(A.shape)"
   ]
  },
  {
   "cell_type": "code",
   "execution_count": 220,
   "metadata": {},
   "outputs": [
    {
     "name": "stdout",
     "output_type": "stream",
     "text": [
      "[[5]\n",
      " [3]]\n",
      "(2, 1)\n"
     ]
    }
   ],
   "source": [
    "v = np.array([[5], [3]])\n",
    "print(v)\n",
    "print(v.shape)"
   ]
  },
  {
   "cell_type": "code",
   "execution_count": 221,
   "metadata": {},
   "outputs": [
    {
     "data": {
      "image/png": "[encoded data removed]",
      "text/plain": [
       "<Figure size 432x288 with 1 Axes>"
      ]
     },
     "metadata": {
      "needs_background": "light"
     },
     "output_type": "display_data"
    }
   ],
   "source": [
    "plot_vectors([v.flatten()],['red','green'])\n",
    "plt.ylim(0, 6)\n",
    "plt.xlim(0, 6)\n",
    "plt.show()"
   ]
  },
  {
   "cell_type": "markdown",
   "metadata": {
    "deletable": false,
    "editable": false,
    "nbgrader": {
     "cell_type": "markdown",
     "checksum": "474c75330b748794e91590322b2ff288",
     "grade": false,
     "grade_id": "cell-58de14d42535ed42",
     "locked": true,
     "schema_version": 3,
     "solution": false
    }
   },
   "source": [
    "**Inline Question**: did you see that v is flattened before plotting? why do we need to do that? Check out the code for plot_vectors and try to answer this? <br>"
   ]
  },
  {
   "cell_type": "markdown",
   "metadata": {
    "deletable": false,
    "nbgrader": {
     "cell_type": "markdown",
     "checksum": "d8dad74210d6810270db64592d74a25c",
     "grade": true,
     "grade_id": "cell-89c617592276dccd",
     "locked": false,
     "points": 1,
     "schema_version": 3,
     "solution": true
    }
   },
   "source": [
    "The input to the function being an array and we need to index the input as a vector to plot the points on the graph. So flatten is used to convert a matrix to a vector."
   ]
  },
  {
   "cell_type": "code",
   "execution_count": 222,
   "metadata": {},
   "outputs": [],
   "source": [
    "def apply_linear_transform(A,v):\n",
    "    '''\n",
    "    Apply the linear transformation on v by a matrix A\n",
    "    return the transformed matrix (Av)\n",
    "    '''\n",
    "    return A@v\n",
    "    raise NotImplementedError()"
   ]
  },
  {
   "cell_type": "code",
   "execution_count": 223,
   "metadata": {},
   "outputs": [],
   "source": [
    "#DO NOT ALTER THIS CELL\n",
    "#HIDDEN TEST CASES FOR apply_linear_transform"
   ]
  },
  {
   "cell_type": "code",
   "execution_count": 224,
   "metadata": {},
   "outputs": [
    {
     "data": {
      "image/png": "[encoded data removed]",
      "text/plain": [
       "<Figure size 432x288 with 1 Axes>"
      ]
     },
     "metadata": {
      "needs_background": "light"
     },
     "output_type": "display_data"
    }
   ],
   "source": [
    "\n",
    "# Let us visualize the transformation on vector v by a matrix A as mentioned above\n",
    "transformed_vector = apply_linear_transform(A,v)\n",
    "# print(transformed_vector)\n",
    "plot_vectors([v.flatten(), transformed_vector.flatten()],cols=['red','green'])\n",
    "plt.ylim(0, 30)\n",
    "plt.xlim(0, 20)\n",
    "plt.show()"
   ]
  },
  {
   "cell_type": "markdown",
   "metadata": {
    "deletable": false,
    "editable": false,
    "nbgrader": {
     "cell_type": "markdown",
     "checksum": "8bf816abe41fec75935c39a77031a575",
     "grade": false,
     "grade_id": "cell-90ab2f47fb9ba388",
     "locked": true,
     "schema_version": 3,
     "solution": false
    }
   },
   "source": [
    "## Eigendecomposition\n",
    "\n",
    "We have seen an example of a vector transformed by a matrix. Now imagine that the transformation of the initial vector gives us a new vector that has the exact same direction. The scale can be different but the direction is the same. Applying the matrix didn't change the direction of the vector. This special vector is called an eigenvector of the matrix. We will see that finding the eigenvectors of a matrix can be very useful.\n",
    "\n",
    "<span class='pquote'>\n",
    "    Imagine that the transformation of the initial vector by the matrix gives a new vector with the exact same direction. This vector is called an eigenvector of ${A}$.\n",
    "</span>\n",
    "\n",
    "This means that ${v}$ is a eigenvector of ${A}$ if ${v}$ and ${Av}$ are in the same direction or to rephrase it if the vectors ${Av}$ and ${v}$ are parallel. The output vector is just a scaled version of the input vector. This scalling factor is $\\lambda$ which is called the **eigenvalue** of ${A}$.\n",
    "\n",
    "$$\n",
    "{Av} = \\lambda{v}\n",
    "$$\n",
    "\n",
    "Talking in terms of eigen values and eigen vector the eigen decomposition of a matrix looks like the following:\n",
    "\n",
    "$$\n",
    "{A}= {V}\\cdot{diag}({\\lambda})\\cdot{V}^{-1}\n",
    "$$\n",
    "\n",
    "We will also verify this property of eigendecomposition.\n",
    "\n",
    "Eigen decomposition is a crucial step for PCA (introduced later)\n",
    "\n",
    "Let's begin!!"
   ]
  },
  {
   "cell_type": "code",
   "execution_count": 225,
   "metadata": {},
   "outputs": [],
   "source": [
    "def find_eigen_decomposition(matrix):\n",
    "    '''\n",
    "    use numpy to find the eigen decomposition of the matrix\n",
    "    returns eigenValues and the eigenVectors\n",
    "    '''\n",
    "    eigenValues,eigenVectors = np.linalg.eig(matrix)\n",
    "    idx = eigenValues.argsort()[::-1]\n",
    "    eigenValues = np.real(eigenValues[idx])\n",
    "    eigenVectors = np.real(eigenVectors[:,idx])\n",
    "    return eigenValues,eigenVectors\n",
    "    # YOUR CODE HERE\n",
    "    raise NotImplementedError()\n",
    "# find_eigen_decomposition(A)"
   ]
  },
  {
   "cell_type": "code",
   "execution_count": 226,
   "metadata": {},
   "outputs": [],
   "source": [
    "#DO NOT ALTER THIS CELL\n",
    "#HIDDEN TEST CASES FOR find_eigen_decomposition\n"
   ]
  },
  {
   "cell_type": "code",
   "execution_count": 227,
   "metadata": {},
   "outputs": [],
   "source": [
    "def verify_eigen_decomposition(matrix,eigen_values,eigen_vectors):\n",
    "    diag_lambda = np.diag(eigen_values)\n",
    "    verify_mat = eigen_vectors@diag_lambda@np.linalg.inv(eigen_vectors)\n",
    "    return verify_mat\n",
    "    '''\n",
    "    verify the eigen decomposition property of matrix\n",
    "    return the recontsructed matrix using the property of eigen vectors and eigenvalues\n",
    "    '''\n",
    "    # YOUR CODE HERE\n",
    "    raise NotImplementedError()"
   ]
  },
  {
   "cell_type": "code",
   "execution_count": 228,
   "metadata": {},
   "outputs": [],
   "source": [
    "#DO NOT ALTER THIS CELL\n",
    "#HIDDEN TEST CASES FOR verify_eigen_decomposition\n"
   ]
  },
  {
   "cell_type": "markdown",
   "metadata": {
    "nbgrader": {
     "grade": false,
     "grade_id": "cell-dd8a48317889d004",
     "locked": false,
     "schema_version": 3,
     "solution": false,
     "task": false
    }
   },
   "source": [
    "## Principal Component Analysis\n",
    "Handling Dimensions is very important in Machine Leanring. The dimensions are all the features of the dataset. For instance, if you are looking at a dataset containing pieces of music, dimensions could be the genre, the length of the piece, the number of instruments, the presence of a singer etc. You can imagine all these dimensions as different columns. When there is only two dimensions, it is very convenient to plot: you can use the $x$ - and  $y$ -axis. Add color and you can represent a third dimension. It is similar if you have tens or hundereds of dimensions, it will just be harder to visualize it.\n",
    "\n",
    "When you have that many dimensions it happens that some of them are correlated. For instance, we can reasonably think that the genre dimension will correlate with the instruments dimensions in our previous example. One way to reduce dimensionality is simply to keep only some of them. The problem is that you loose good information. It would be nice to have a way to reduce these dimensions while keeping all the information present in the data set.\n",
    "\n",
    "The aim of principal components analysis (PCA) is generaly to reduce the number of dimensions of a dataset where dimensions are not completly decorelated. PCA provides us with a new set of dimensions, the principal components (PC).\n",
    "\n",
    "Step-wise PCA is:\n",
    "\n",
    "1) Center the data <br>\n",
    "2) Find the covariance matrix <br>\n",
    "3) Find the Eigen Decompostion <br>\n",
    "4) Choose the principal components <br>\n",
    "5) Find the new dataset Matrix <br>\n",
    "\n",
    "Following [article](https://towardsdatascience.com/a-one-stop-shop-for-principal-component-analysis-5582fb7e0a9c) also explains PCA very well.\n",
    "Let's implement PCA to get an essence of how dimensions can be reduced, you need to implement the function one by one!"
   ]
  },
  {
   "cell_type": "code",
   "execution_count": 229,
   "metadata": {},
   "outputs": [],
   "source": [
    "4\n",
    "#the two dimensions of our dataset\n",
    "x = x.reshape(100, 1)\n",
    "y = y.reshape(100, 1)\n",
    "\n",
    "#The dataset matrix\n",
    "X = np.hstack([x, y])"
   ]
  },
  {
   "cell_type": "code",
   "execution_count": 230,
   "metadata": {},
   "outputs": [
    {
     "data": {
      "image/png": "[encoded data removed]",
      "text/plain": [
       "<Figure size 432x288 with 1 Axes>"
      ]
     },
     "metadata": {
      "needs_background": "light"
     },
     "output_type": "display_data"
    }
   ],
   "source": [
    "plt.plot(X[:,0],X[:,1],'.')\n",
    "plt.show()"
   ]
  },
  {
   "cell_type": "code",
   "execution_count": 231,
   "metadata": {},
   "outputs": [],
   "source": [
    "def center(X):\n",
    "    '''\n",
    "    function to center the data around the mean\n",
    "    modify the return value to return the modified matrix\n",
    "    '''\n",
    "    X_mean = X.mean(axis = 0)\n",
    "    X_std = X.std(axis = 0)\n",
    "    X -= X_mean\n",
    "#     X /= X_std\n",
    "    return X\n",
    "    # YOUR CODE HERE\n",
    "    raise NotImplementedError()"
   ]
  },
  {
   "cell_type": "code",
   "execution_count": 232,
   "metadata": {},
   "outputs": [],
   "source": [
    "#DO NOT ALTER THIS CELL\n",
    "#HIDDEN TEST CASES FOR center\n"
   ]
  },
  {
   "cell_type": "code",
   "execution_count": 233,
   "metadata": {},
   "outputs": [],
   "source": [
    "def find_covariance_matrix(X):\n",
    "    M,N = X.shape\n",
    "    X_cov = (1/M)*(X.T@X)\n",
    "    return X_cov\n",
    "    '''\n",
    "    Find the covariance matrix of X\n",
    "    USE only the following formula for covariance: 1/M dot_product(transpose(X),X) where X is MxN\n",
    "    M is the number of observations and N is the number of features and X is column centered.\n",
    "    Return the final matrix\n",
    "    '''\n",
    "    \n",
    "    # YOUR CODE HERE\n",
    "    raise NotImplementedError()"
   ]
  },
  {
   "cell_type": "code",
   "execution_count": 234,
   "metadata": {},
   "outputs": [],
   "source": [
    "#DO NOT ALTER THIS CELL\n",
    "#HIDDEN TEST CASES FOR find_covariance_matrix\n"
   ]
  },
  {
   "cell_type": "markdown",
   "metadata": {
    "deletable": false,
    "editable": false,
    "nbgrader": {
     "cell_type": "markdown",
     "checksum": "cd402e4e6d41faa8bcd5f7f8a8946963",
     "grade": false,
     "grade_id": "cell-dabaa22556056316",
     "locked": true,
     "schema_version": 3,
     "solution": false
    }
   },
   "source": [
    "Now let's plot the centered data and the eigen vectors in the same figure"
   ]
  },
  {
   "cell_type": "code",
   "execution_count": 235,
   "metadata": {},
   "outputs": [
    {
     "data": {
      "image/png": "[encoded data removed]",
      "text/plain": [
       "<Figure size 432x288 with 1 Axes>"
      ]
     },
     "metadata": {
      "needs_background": "light"
     },
     "output_type": "display_data"
    }
   ],
   "source": [
    "# We will use the simulated X, the one we generated in one of the above cells\n",
    "X_centered = center(X)\n",
    "covariance = find_covariance_matrix(X_centered)\n",
    "eigenVals, eigenVecs = find_eigen_decomposition(covariance)\n",
    "# print(eigenVecs.shape)\n",
    "plot_vectors(eigenVecs, ['red', 'blue'])\n",
    "plt.plot(X_centered[:,0], X_centered[:,1], '*')\n",
    "plt.xlim(-3, 3)\n",
    "plt.ylim(-3, 3)\n",
    "plt.show()"
   ]
  },
  {
   "cell_type": "code",
   "execution_count": 236,
   "metadata": {},
   "outputs": [],
   "source": [
    "def two_dimensional_pca(X_centered, eigenValues, eigenVecs):\n",
    "    '''\n",
    "    using X_centered, eigenValues, eigenVecs as obtained above\n",
    "    apply pca on X_centered and chose the principal component\n",
    "    return the new matrix\n",
    "    '''\n",
    "    \n",
    "    # YOUR CODE HERE\n",
    "    #Sorting the eigenvals and vecs in descending order. Thanks Stackoverflow\n",
    "    # print(eigenVecs.shape,\"fi\")\n",
    "    X_pca = X_centered@eigenVecs\n",
    "    X_pca = X_pca[:,0]\n",
    "    return X_pca\n",
    "    raise NotImplementedError()\n"
   ]
  },
  {
   "cell_type": "code",
   "execution_count": 237,
   "metadata": {},
   "outputs": [],
   "source": [
    "#DO NOT ALTER THIS CELL\n",
    "#HIDDEN TEST CASES FOR two_dimensional_pca on the data X created in the above cells\n"
   ]
  },
  {
   "cell_type": "markdown",
   "metadata": {
    "deletable": false,
    "editable": false,
    "nbgrader": {
     "cell_type": "markdown",
     "checksum": "e349cf0eb519590263227486b4b820fd",
     "grade": false,
     "grade_id": "cell-bae36247dbb3680b",
     "locked": true,
     "schema_version": 3,
     "solution": false
    }
   },
   "source": [
    "**Inline Questions:** <br> \n",
    "1) Can you identify the color of the line which points to the direction of maximum variance? <br>\n",
    "2) Look at the Graph below and explain if PCA can be applied on this dataset or not? Do give reason. <br>\n",
    "3) Can you apply PCA to categorical variables? (Answer to this will give you hints for the next excercise)\n",
    "\n",
    "![Plot](images/pca_inline.png)"
   ]
  },
  {
   "cell_type": "markdown",
   "metadata": {
    "deletable": false,
    "editable": false,
    "nbgrader": {
     "cell_type": "markdown",
     "checksum": "71f5d795ba1e0c5fcae215a1bd3e8f3e",
     "grade": false,
     "grade_id": "cell-67cd484a33c21216",
     "locked": true,
     "points": 1,
     "schema_version": 3,
     "solution": false,
     "task": true
    }
   },
   "source": [
    "## Answers:\n",
    "1. Red.\n",
    "2. No. Since the variance in the data is quite high.\n",
    "3. No its not possible."
   ]
  },
  {
   "cell_type": "markdown",
   "metadata": {},
   "source": [
    "## PCA on a large dataset\n",
    "## About Dataset:\n",
    "Task: Reducing the dimesions for predicting house prices.\n",
    "The dataset is stored in the file **'data_pca.csv'**, it has 15 numerical columns and 2 categorical columns (columns are labeled as $X0$....$X16$), in an imaginary world, all these columns have certain significance towards prediciton of final house prices. Your task is simple, apply PCA to reduce the number of dimensions. \n",
    "\n",
    "Now implement the following functions for getting the final dataset with reduced dimensions. Keep the top $k (k=0...10)$ principal components."
   ]
  },
  {
   "cell_type": "code",
   "execution_count": 238,
   "metadata": {},
   "outputs": [],
   "source": [
    "def read_data(name):\n",
    "    '''\n",
    "    read the CSV file and return the corresponding dataframe\n",
    "    don't forget to remove the index column (check the name properly)\n",
    "    '''\n",
    "    data = pd.read_csv(name)\n",
    "    data = data.drop(columns = ['Unnamed: 0'])\n",
    "    return data\n",
    "\n",
    "    # YOUR CODE HERE\n",
    "    raise NotImplementedError()"
   ]
  },
  {
   "cell_type": "code",
   "execution_count": 239,
   "metadata": {},
   "outputs": [],
   "source": [
    "#input the path top the CSV file\n",
    "#DO NOT ALTER THIS CELL\n",
    "#HIDDEN TEST CASES FOR read_data\n",
    "\n",
    "PATH_TO_CSV_FILE = './data_pca.csv'"
   ]
  },
  {
   "cell_type": "code",
   "execution_count": 240,
   "metadata": {},
   "outputs": [],
   "source": [
    "def apply_pca(data,k):\n",
    "    '''\n",
    "    data: a pandas data frame\n",
    "    Implement PCA on the dataset and return the transformed dataset as a pandas dataframe\n",
    "    keep k pricipal components\n",
    "    remember the dataset MUST have the chosen components and the columns you decide to exclude \n",
    "    from PCA calculation.\n",
    "    The returned dataframe should NOT have the index column\n",
    "    The returned dataframe should have similar column names as original and must be in the \n",
    "    SAME ORDER as in the original data, example : if X0 and X1 are chosen then X0 must appear\n",
    "    appear before X1 in the returned frame as it appears before in the original frame as well.\n",
    "    \n",
    "    Try to verify the function on your own :)\n",
    "    '''\n",
    "\n",
    "    # YOUR CODE HERE\n",
    "#     data = pd.get_dummies(data,prefix = ['X16'])\n",
    "    data = data.drop(columns = ['X15','X16','price']) #Dropping Categorical variables & target variable\n",
    "#     data.head()\n",
    "    mat = data.as_matrix()\n",
    "    X_center = center(mat)\n",
    "#     print(X_center)\n",
    "    covariance = find_covariance_matrix(X_center)\n",
    "#     print(covariance)\n",
    "    eigenVals, eigenVecs = find_eigen_decomposition(covariance)\n",
    "    column_names = data.columns[:k] #Keeping the first k PCA components\n",
    "    final_mat = X_center@eigenVecs\n",
    "    final_mat = final_mat[:,:k]\n",
    "#     print((final_mat[:,0]*final_mat[:,1]).sum(),\"ok\") #Verified that the vecs are orthogonal\n",
    "    df = pd.DataFrame(data=final_mat,columns=column_names)\n",
    "    return df\n",
    "    \n",
    "    raise NotImplementedError()"
   ]
  },
  {
   "cell_type": "code",
   "execution_count": 241,
   "metadata": {},
   "outputs": [],
   "source": [
    "PATH_TO_CSV_FILE = './data_pca.csv'\n",
    "data = pd.read_csv(PATH_TO_CSV_FILE)\n",
    "# data.head()\n",
    "#DO NOT ALTER THIS CELL\n",
    "#HIDDEN TEST CASES FOR apply_pca"
   ]
  },
  {
   "cell_type": "code",
   "execution_count": 242,
   "metadata": {},
   "outputs": [
    {
     "name": "stderr",
     "output_type": "stream",
     "text": [
      "/home/sanchit/anaconda3/lib/python3.7/site-packages/ipykernel_launcher.py:20: FutureWarning: Method .as_matrix will be removed in a future version. Use .values instead.\n"
     ]
    },
    {
     "data": {
      "text/html": [
       "<div>\n",
       "<style scoped>\n",
       "    .dataframe tbody tr th:only-of-type {\n",
       "        vertical-align: middle;\n",
       "    }\n",
       "\n",
       "    .dataframe tbody tr th {\n",
       "        vertical-align: top;\n",
       "    }\n",
       "\n",
       "    .dataframe thead th {\n",
       "        text-align: right;\n",
       "    }\n",
       "</style>\n",
       "<table border=\"1\" class=\"dataframe\">\n",
       "  <thead>\n",
       "    <tr style=\"text-align: right;\">\n",
       "      <th></th>\n",
       "      <th>X0</th>\n",
       "      <th>X1</th>\n",
       "      <th>X2</th>\n",
       "      <th>X3</th>\n",
       "      <th>X4</th>\n",
       "    </tr>\n",
       "  </thead>\n",
       "  <tbody>\n",
       "    <tr>\n",
       "      <td>0</td>\n",
       "      <td>20.093701</td>\n",
       "      <td>25.605597</td>\n",
       "      <td>24.815538</td>\n",
       "      <td>0.784914</td>\n",
       "      <td>-4.685567</td>\n",
       "    </tr>\n",
       "    <tr>\n",
       "      <td>1</td>\n",
       "      <td>-2.420443</td>\n",
       "      <td>-9.488020</td>\n",
       "      <td>1.440947</td>\n",
       "      <td>-6.108520</td>\n",
       "      <td>20.479804</td>\n",
       "    </tr>\n",
       "    <tr>\n",
       "      <td>2</td>\n",
       "      <td>-9.714380</td>\n",
       "      <td>12.755588</td>\n",
       "      <td>-3.701177</td>\n",
       "      <td>11.049287</td>\n",
       "      <td>14.897816</td>\n",
       "    </tr>\n",
       "    <tr>\n",
       "      <td>3</td>\n",
       "      <td>-43.653954</td>\n",
       "      <td>20.826142</td>\n",
       "      <td>3.558104</td>\n",
       "      <td>-16.463925</td>\n",
       "      <td>7.997128</td>\n",
       "    </tr>\n",
       "    <tr>\n",
       "      <td>4</td>\n",
       "      <td>18.525385</td>\n",
       "      <td>-8.678197</td>\n",
       "      <td>37.487504</td>\n",
       "      <td>10.705128</td>\n",
       "      <td>3.730631</td>\n",
       "    </tr>\n",
       "  </tbody>\n",
       "</table>\n",
       "</div>"
      ],
      "text/plain": [
       "          X0         X1         X2         X3         X4\n",
       "0  20.093701  25.605597  24.815538   0.784914  -4.685567\n",
       "1  -2.420443  -9.488020   1.440947  -6.108520  20.479804\n",
       "2  -9.714380  12.755588  -3.701177  11.049287  14.897816\n",
       "3 -43.653954  20.826142   3.558104 -16.463925   7.997128\n",
       "4  18.525385  -8.678197  37.487504  10.705128   3.730631"
      ]
     },
     "execution_count": 242,
     "metadata": {},
     "output_type": "execute_result"
    }
   ],
   "source": [
    "df = apply_pca(read_data(\"data_pca.csv\"),5)\n",
    "df.head()"
   ]
  }
 ],
 "metadata": {
  "kernelspec": {
   "display_name": "Python 3",
   "language": "python",
   "name": "python3"
  },
  "language_info": {
   "codemirror_mode": {
    "name": "ipython",
    "version": 3
   },
   "file_extension": ".py",
   "mimetype": "text/x-python",
   "name": "python",
   "nbconvert_exporter": "python",
   "pygments_lexer": "ipython3",
   "version": "3.7.4"
  }
 },
 "nbformat": 4,
 "nbformat_minor": 4
}
